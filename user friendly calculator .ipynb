{
 "cells": [
  {
   "cell_type": "code",
   "execution_count": null,
   "id": "80289a6b",
   "metadata": {},
   "outputs": [],
   "source": [
    "#user friendly calculator"
   ]
  },
  {
   "cell_type": "code",
   "execution_count": 8,
   "id": "6beab4be",
   "metadata": {},
   "outputs": [
    {
     "name": "stdout",
     "output_type": "stream",
     "text": [
      "1.addition\n",
      "2.subtraction\n",
      "3.multiplication\n",
      "4.division\n",
      "please enter option 1/2/3/41\n",
      "please enter first val: 2\n",
      "please enter second val: 3\n",
      "the value addition 5\n"
     ]
    }
   ],
   "source": [
    "def addition(a,b):\n",
    "    return a+b\n",
    "def subtraction(a,b):\n",
    "    return a-b\n",
    "def multiplication(a,b):\n",
    "    return a*b\n",
    "def division(a,b):\n",
    "    return a/b\n",
    "print(\"1.addition\")\n",
    "print(\"2.subtraction\")\n",
    "print(\"3.multiplication\")\n",
    "print(\"4.division\")\n",
    "choice=int(input(\"please enter option 1/2/3/4\"))\n",
    "x=int(input(\"please enter first val: \"))\n",
    "y=int(input(\"please enter second val: \"))\n",
    "if choice ==1:\n",
    "    n=addition(x,y)\n",
    "    print(\"the value addition\",n)\n",
    "elif choice ==2:\n",
    "    n==subutraction(x,y)\n",
    "    print(\"the value subtraction\",n)\n",
    "elif choice ==3:\n",
    "    n=multiplication(x,y)\n",
    "    print(\"the value multiplication\",n)\n",
    "elif choice ==4:\n",
    "    n=division(x,y)\n",
    "    print(\"the value division\",n)\n",
    "    \n",
    "           "
   ]
  }
 ],
 "metadata": {
  "kernelspec": {
   "display_name": "Python 3 (ipykernel)",
   "language": "python",
   "name": "python3"
  },
  "language_info": {
   "codemirror_mode": {
    "name": "ipython",
    "version": 3
   },
   "file_extension": ".py",
   "mimetype": "text/x-python",
   "name": "python",
   "nbconvert_exporter": "python",
   "pygments_lexer": "ipython3",
   "version": "3.11.4"
  }
 },
 "nbformat": 4,
 "nbformat_minor": 5
}
